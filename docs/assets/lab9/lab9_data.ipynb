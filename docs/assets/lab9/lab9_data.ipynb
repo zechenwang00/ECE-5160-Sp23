{
 "cells": [
  {
   "cell_type": "code",
   "execution_count": 1,
   "id": "bfbd58d3-d45e-458b-8350-d2137ab2ac03",
   "metadata": {
    "tags": []
   },
   "outputs": [],
   "source": [
    "import numpy as np\n",
    "import matplotlib.pyplot as plt\n",
    "import pickle"
   ]
  },
  {
   "cell_type": "code",
   "execution_count": 2,
   "id": "745c6924-8021-470c-9362-92fe899f4597",
   "metadata": {},
   "outputs": [],
   "source": [
    "run_1 = []\n",
    "run_2 = []\n",
    "run_3 = []\n",
    "run_4 = []\n",
    "\n",
    "pt_1 = (5, -3)\n",
    "pt_2 = (-3, -2)\n",
    "pt_3 = (0, 3)\n",
    "pt_4 = (5, 3)"
   ]
  },
  {
   "cell_type": "code",
   "execution_count": 3,
   "id": "e1ddba6f-9488-4b01-a985-be162289785f",
   "metadata": {},
   "outputs": [],
   "source": [
    "with open(\"./lab9_data/run_1.pkl\", \"rb\") as pickleFile:\n",
    "        run_1 = pickle.load(pickleFile)\n",
    "with open(\"./lab9_data/run_2.pkl\", \"rb\") as pickleFile:\n",
    "        run_2 = pickle.load(pickleFile)\n",
    "with open(\"./lab9_data/run_3.pkl\", \"rb\") as pickleFile:\n",
    "        run_3 = pickle.load(pickleFile)\n",
    "with open(\"./lab9_data/run_4.pkl\", \"rb\") as pickleFile:\n",
    "        run_4 = pickle.load(pickleFile)"
   ]
  },
  {
   "cell_type": "code",
   "execution_count": 4,
   "id": "c4425bcf-c6ee-4722-9bf1-eff1d220c4f6",
   "metadata": {
    "tags": []
   },
   "outputs": [],
   "source": [
    "# convert distance to num of tiles\n",
    "\n",
    "run_1 = np.array(run_1) / 333\n",
    "run_2 = np.array(run_2) / 333\n",
    "run_3 = np.array(run_3) / 333\n",
    "run_4 = np.array(run_4) / 333"
   ]
  },
  {
   "cell_type": "code",
   "execution_count": 5,
   "id": "e5412476-c163-467c-913e-3e53ee4cb3aa",
   "metadata": {
    "tags": []
   },
   "outputs": [
    {
     "name": "stdout",
     "output_type": "stream",
     "text": [
      "[9.47747748 7.79279279 3.40840841 3.97297297 6.35135135 2.32432432\n",
      " 1.51951952 1.22822823 1.1981982  1.34234234 1.1951952  0.90690691\n",
      " 0.82282282 0.86486486 1.01801802 1.41441441 2.99099099 4.16816817\n",
      " 9.43243243] \n",
      " [2.1021021  2.68468468 3.03603604 2.74774775 6.22822823 8.25225225\n",
      " 5.61861862 9.18318318 2.22822823 2.33933934 2.02702703 1.63363363\n",
      " 1.58558559 1.68168168 2.22522523 2.29429429 2.         2.07507508\n",
      " 2.43843844] \n",
      " [2.14714715 1.48648649 1.0990991  0.996997   1.10810811 1.37837838\n",
      " 1.97297297 5.12912913 6.01501502 2.42942943 2.94294294 6.32132132\n",
      " 5.85285285 5.86186186 7.99099099 2.88888889 2.24624625 2.06606607\n",
      " 2.05105105] \n",
      " [3.61561562 1.97897898 1.4024024  1.16216216 1.22222222 1.48948949\n",
      " 1.45645646 1.15015015 1.08408408 1.18618619 1.54654655 2.21921922\n",
      " 4.22222222 6.46246246 1.01501502 0.63063063 1.18318318 7.02102102\n",
      " 6.58258258]\n"
     ]
    }
   ],
   "source": [
    "print(run_1, \"\\n\", run_2, \"\\n\", run_3, \"\\n\", run_4)"
   ]
  },
  {
   "cell_type": "code",
   "execution_count": 6,
   "id": "62306d7a-be07-4f93-b877-83a2426dbb21",
   "metadata": {
    "tags": []
   },
   "outputs": [],
   "source": [
    "# calculate angle increments\n",
    "\n",
    "angle = 2 * np.pi / len(run_1)\n",
    "angle_offset = 2*np.pi - 0.20*np.pi"
   ]
  },
  {
   "cell_type": "code",
   "execution_count": 7,
   "id": "7be0f7a0-f4ed-4b57-9e2b-78057600c5d7",
   "metadata": {
    "tags": []
   },
   "outputs": [],
   "source": [
    "data_1_x = []\n",
    "data_1_y = []\n",
    "data_2_x = []\n",
    "data_2_y = []\n",
    "data_3_x = []\n",
    "data_3_y = []\n",
    "data_4_x = []\n",
    "data_4_y = []"
   ]
  },
  {
   "cell_type": "code",
   "execution_count": 8,
   "id": "a7030a60-13da-49ab-b583-2f46c5c5c8a0",
   "metadata": {
    "tags": []
   },
   "outputs": [],
   "source": [
    "for idx, val in enumerate(run_1):\n",
    "    data_1_x.append(pt_1[0] - np.cos(angle_offset - angle*idx) * val)\n",
    "    data_1_y.append((pt_1[1] - np.sin(angle_offset - angle*idx) * val))\n",
    "for idx, val in enumerate(run_2):\n",
    "    data_2_x.append(pt_2[0] - np.cos(angle_offset - angle*idx) * val)\n",
    "    data_2_y.append((pt_2[1] - np.sin(angle_offset - angle*idx) * val))\n",
    "for idx, val in enumerate(run_3):\n",
    "    data_3_x.append(pt_3[0] - np.cos(angle_offset - angle*idx) * val)\n",
    "    data_3_y.append((pt_3[1] - np.sin(angle_offset - angle*idx) * val))\n",
    "for idx, val in enumerate(run_4):\n",
    "    data_4_x.append(pt_4[0] - np.cos(angle_offset - angle*idx) * val)\n",
    "    data_4_y.append((pt_4[1] - np.sin(angle_offset - angle*idx) * val))"
   ]
  },
  {
   "cell_type": "code",
   "execution_count": 9,
   "id": "8536da45-db60-4394-9321-01643cfbada0",
   "metadata": {
    "tags": []
   },
   "outputs": [
    {
     "data": {
      "image/png": "[encoded data removed]",
      "text/plain": [
       "<Figure size 640x480 with 1 Axes>"
      ]
     },
     "metadata": {},
     "output_type": "display_data"
    }
   ],
   "source": [
    "# points\n",
    "plt.plot([5, -3, 0, 5], [-3, -2, 3, 3], 'rs')\n",
    "# region\n",
    "plt.plot([6, -5, -5, -2, -2, 6, 6], [-4, -4, 1, 1, 4, 4, -4], color='gray')\n",
    "# obstacles\n",
    "plt.plot([1, 1, 0, 0], [-4, -2, -2, -4], color='gray')\n",
    "plt.plot([4, 2, 2, 4, 4], [0, 0, 2, 2, 0], color='gray')\n",
    "# sensor data\n",
    "plt.plot(data_1_x, data_1_y, '.',color='brown', label='run 1')\n",
    "plt.plot(data_2_x, data_2_y, '.',color='blue', label='run 2')\n",
    "plt.plot(data_3_x, data_3_y, '.',color='green', label='run 3')\n",
    "plt.plot(data_4_x, data_4_y, '.',color='orange', label='run 4')\n",
    "plt.legend(loc=\"upper left\")\n",
    "plt.xlabel('x')\n",
    "plt.ylabel('y')\n",
    "plt.show()"
   ]
  },
  {
   "cell_type": "code",
   "execution_count": null,
   "id": "167514ae-42b3-4ae6-8418-da3fc4603f17",
   "metadata": {},
   "outputs": [],
   "source": []
  }
 ],
 "metadata": {
  "kernelspec": {
   "display_name": "Python 3 (ipykernel)",
   "language": "python",
   "name": "python3"
  },
  "language_info": {
   "codemirror_mode": {
    "name": "ipython",
    "version": 3
   },
   "file_extension": ".py",
   "mimetype": "text/x-python",
   "name": "python",
   "nbconvert_exporter": "python",
   "pygments_lexer": "ipython3",
   "version": "3.10.9"
  }
 },
 "nbformat": 4,
 "nbformat_minor": 5
}
