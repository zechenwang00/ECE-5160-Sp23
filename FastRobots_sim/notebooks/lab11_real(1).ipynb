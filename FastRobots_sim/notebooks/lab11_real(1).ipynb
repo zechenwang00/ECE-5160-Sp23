{
 "cells": [
  {
   "cell_type": "markdown",
   "metadata": {
    "tags": []
   },
   "source": [
    "# Lab 11: Grid Localization using Bayes Filter (Real Robot)\n",
    "\n",
    "### <span style=\"color:rgb(0,150,0)\">It is recommended that you close any heavy-duty applications running on your system while working on this lab.</span>\n",
    "\n",
    "### <span style=\"color:rgb(0,150,0)\">The notebook only provides skeleton code for you to integrate the Localization class with the Real Robot.</span>\n",
    "\n",
    "<hr>"
   ]
  },
  {
   "cell_type": "code",
   "execution_count": 1,
   "metadata": {
    "tags": []
   },
   "outputs": [
    {
     "name": "stdout",
     "output_type": "stream",
     "text": [
      "2023-05-01 17:38:17,565 |\u001b[32m INFO     \u001b[0m|: Logger demo_notebook.log initialized.\n"
     ]
    }
   ],
   "source": [
    "%load_ext autoreload\n",
    "%autoreload 2\n",
    "\n",
    "import traceback\n",
    "from notebook_utils import *\n",
    "from Traj import *\n",
    "import asyncio\n",
    "import pathlib\n",
    "import os\n",
    "from utils import load_config_params\n",
    "from localization_extras import Localization\n",
    "\n",
    "# The imports below will only work if you copied the required ble-related python files \n",
    "# into the notebooks directory\n",
    "from ble import get_ble_controller\n",
    "from base_ble import LOG\n",
    "from cmd_types import CMD\n",
    "import numpy as np\n",
    "\n",
    "# Setup Logger\n",
    "LOG = get_logger('demo_notebook.log')\n",
    "LOG.propagate = False\n",
    "\n",
    "# Init GUI and Commander\n",
    "gui = GET_GUI()\n",
    "cmdr = gui.launcher.commander"
   ]
  },
  {
   "cell_type": "code",
   "execution_count": 2,
   "metadata": {
    "tags": []
   },
   "outputs": [
    {
     "name": "stderr",
     "output_type": "stream",
     "text": [
      "qt.dbus.integration: Could not connect \"org.freedesktop.IBus\" to globalEngineChanged(QString)\n"
     ]
    }
   ],
   "source": [
    "# Start the plotter\n",
    "START_PLOTTER()"
   ]
  },
  {
   "cell_type": "markdown",
   "metadata": {},
   "source": [
    "# The RealRobot class\n",
    "Define the RealRobot class in the code cell below, based on the documentation and your real robot communication protocol. <br>\n",
    "This class is used by the **Localization** class to communicate with the real robot. <br>\n",
    "More specifically, the **Localization** class utilizes the **RealRobot's** member function **perform_observation_loop()** to get the 18 sensor readings and store them in its member variable **obs_range_data**, which is then utilized in the update step."
   ]
  },
  {
   "cell_type": "code",
   "execution_count": 3,
   "metadata": {
    "tags": []
   },
   "outputs": [],
   "source": [
    "class RealRobot():\n",
    "    \"\"\"A class to interact with the real robot\n",
    "    \"\"\"\n",
    "    def __init__(self, commander, ble):\n",
    "        # Load world config\n",
    "        self.world_config = os.path.join(str(pathlib.Path(os.getcwd()).parent), \"config\", \"world.yaml\")\n",
    "        \n",
    "        self.config_params = load_config_params(self.world_config)\n",
    "        \n",
    "        # Commander to commuincate with the Plotter process\n",
    "        # Used by the Localization module to plot odom and belief\n",
    "        self.cmdr = commander\n",
    "\n",
    "        # ArtemisBLEController to communicate with the Robot\n",
    "        self.ble = ble\n",
    "\n",
    "    def get_pose(self, num):\n",
    "        \"\"\"Get robot pose based on odometry\n",
    "        \n",
    "        Returns:\n",
    "            current_odom -- Odometry Pose (meters, meters, degrees)\n",
    "        \"\"\"\n",
    "        \n",
    "        if num == 1:\n",
    "            return (5 * 0.3048, -3 * 0.3048, 0)\n",
    "        elif num == 2:\n",
    "            return (5 * 0.3048, 3 * 0.3048, 0)\n",
    "        elif num == 3:\n",
    "            return (0, 3 * 0.3048, 0)\n",
    "        else:\n",
    "            return (-3 * 0.3048, -2 * 0.3048, 0)\n",
    "        \n",
    "        # raise NotImplementedError(\"get_pose is not implemented\")\n",
    "\n",
    "    def perform_observation_loop(self, rot_vel=120):\n",
    "        \"\"\"Perform the observation loop behavior on the real robot, where the robot does  \n",
    "        a 360 degree turn in place while collecting equidistant (in the angular space) sensor\n",
    "        readings, with the first sensor reading taken at the robot's current heading. \n",
    "        The number of sensor readings depends on \"observations_count\"(=18) defined in world.yaml.\n",
    "        \n",
    "        Keyword arguments:\n",
    "            rot_vel -- (Optional) Angular Velocity for loop (degrees/second)\n",
    "                        Do not remove this parameter from the function definition, even if you don't use it.\n",
    "        Returns:\n",
    "            sensor_ranges   -- A column numpy array of the range values (meters)\n",
    "            sensor_bearings -- A column numpy array of the bearings at which the sensor readings were taken (degrees)\n",
    "                               The bearing values are not used in the Localization module, so you may return a empty numpy array\n",
    "        \"\"\"\n",
    "        sensor_ranges = np.zeros(18)\n",
    "        sensor_bearings = np.zeros(18)\n",
    "        \n",
    "        # start\n",
    "        ble.send_command(CMD.SEND_TWO_INTS, \"\")\n",
    "        \n",
    "        while sensor_ranges[0] == 0:\n",
    "            # wait for readings\n",
    "            string_value = ble.receive_string(ble.uuid['RX_STRING'])\n",
    "            if string_value != None:\n",
    "                print(string_value)\n",
    "                data = string_value.split('|')\n",
    "                for s in data:\n",
    "                    if s != '':\n",
    "                        s = s.split(',')\n",
    "                        tof = int(s[0])\n",
    "                        idx = int(s[1])\n",
    "                        if sensor_ranges[idx] == 0:\n",
    "                            sensor_ranges[idx] = tof\n",
    "            \n",
    "            print(sensor_ranges)\n",
    "            \n",
    "        # stop\n",
    "        ble.send_command(CMD.SEND_THREE_FLOATS, \"\")\n",
    "                            \n",
    "\n",
    "        \n",
    "        return np.array(sensor_ranges)[np.newaxis].T / 1000, np.array(sensor_bearings)[np.newaxis].T\n",
    "\n",
    "\n",
    "\n",
    "\n",
    "        \n",
    "        \n"
   ]
  },
  {
   "cell_type": "code",
   "execution_count": 4,
   "metadata": {
    "tags": []
   },
   "outputs": [
    {
     "name": "stdout",
     "output_type": "stream",
     "text": [
      "2023-05-01 17:38:21,299 |\u001b[32m INFO     \u001b[0m|: Looking for Artemis Nano Peripheral Device: C0:83:b1:6a:38:3C\n",
      "2023-05-01 17:38:24,558 |\u001b[32m INFO     \u001b[0m|: Connected to C0:83:b1:6a:38:3C\n"
     ]
    },
    {
     "name": "stderr",
     "output_type": "stream",
     "text": [
      "/home/zhongqi_tao/ece-5160/Simulator/FastRobots-sim-release-release-mirror/notebooks/base_ble.py:87: FutureWarning: This method will be removed future version, pass the callback to the BleakClient constructor instead.\n",
      "  self.client.set_disconnected_callback(self.disconnect_handler)\n"
     ]
    }
   ],
   "source": [
    "# Get ArtemisBLEController object\n",
    "ble = get_ble_controller()\n",
    "\n",
    "# Connect to the Artemis Device\n",
    "ble.connect()"
   ]
  },
  {
   "cell_type": "code",
   "execution_count": 5,
   "metadata": {
    "tags": []
   },
   "outputs": [
    {
     "name": "stdout",
     "output_type": "stream",
     "text": [
      "2023-05-01 17:38:26,859 |\u001b[32m INFO     \u001b[0m|:  | Number of observations per grid cell: 18\n",
      "2023-05-01 17:38:26,860 |\u001b[32m INFO     \u001b[0m|:  | Precaching Views...\n"
     ]
    },
    {
     "name": "stderr",
     "output_type": "stream",
     "text": [
      "/home/zhongqi_tao/ece-5160/Simulator/FastRobots-sim-release-release-mirror/localization.py:150: RuntimeWarning: All-NaN slice encountered\n",
      "  return np.nanmin(distance_intersections_tt), intersections_tt[np.nanargmin(distance_intersections_tt)]\n"
     ]
    },
    {
     "name": "stdout",
     "output_type": "stream",
     "text": [
      "2023-05-01 17:38:28,710 |\u001b[32m INFO     \u001b[0m|:  | Precaching Time: 1.850 secs\n",
      "2023-05-01 17:38:28,711 |\u001b[32m INFO     \u001b[0m|: Initializing beliefs with a Uniform Distribution\n",
      "2023-05-01 17:38:28,712 |\u001b[32m INFO     \u001b[0m|: Uniform Belief with each cell value: 0.00051440329218107\n"
     ]
    }
   ],
   "source": [
    "# Initialize RealRobot with a Commander object to communicate with the plotter process\n",
    "# and the ArtemisBLEController object to communicate with the real robot\n",
    "robot = RealRobot(cmdr, ble)\n",
    "\n",
    "# Initialize mapper\n",
    "# Requires a VirtualRobot object as a parameter\n",
    "mapper = Mapper(robot)\n",
    "\n",
    "# Initialize your BaseLocalization object\n",
    "# Requires a RealRobot object and a Mapper object as parameters\n",
    "loc = Localization(robot, mapper)\n",
    "\n",
    "## Plot Map\n",
    "cmdr.plot_map()"
   ]
  },
  {
   "cell_type": "markdown",
   "metadata": {},
   "source": [
    "# Run an update step of the Bayes Filter"
   ]
  },
  {
   "cell_type": "code",
   "execution_count": 9,
   "metadata": {
    "tags": []
   },
   "outputs": [
    {
     "name": "stdout",
     "output_type": "stream",
     "text": [
      "2023-05-01 17:29:04,968 |\u001b[32m INFO     \u001b[0m|: Initializing beliefs with a Uniform Distribution\n",
      "2023-05-01 17:29:04,969 |\u001b[32m INFO     \u001b[0m|: Uniform Belief with each cell value: 0.00051440329218107\n",
      "457,0|642,1|2496,2|1099,3|1191,4|2714,5|3116,6|1372,7|481,8|346,9|285,10|302,11|387,12|504,13|428,14|463,15|602,16|1064,17|\n",
      "[ 457.  642. 2496. 1099. 1191. 2714. 3116. 1372.  481.  346.  285.  302.\n",
      "  387.  504.  428.  463.  602. 1064.]\n",
      "2023-05-01 17:29:13,879 |\u001b[32m INFO     \u001b[0m|: Update Step\n",
      "2023-05-01 17:29:13,881 |\u001b[32m INFO     \u001b[0m|:      | Update Time: 0.002 secs\n",
      "2023-05-01 17:29:13,881 |\u001b[32m INFO     \u001b[0m|: Bel index     : (10, 1, 11) with prob = 0.9707422\n",
      "2023-05-01 17:29:13,882 |\u001b[32m INFO     \u001b[0m|: Bel_bar prob at index = 0.00051440329218107\n",
      "2023-05-01 17:29:13,883 |\u001b[32m INFO     \u001b[0m|: Belief        : (1.524, -0.914, 50.000)\n"
     ]
    }
   ],
   "source": [
    "# Reset Plots\n",
    "cmdr.reset_plotter()\n",
    "\n",
    "# Init Uniform Belief\n",
    "loc.init_grid_beliefs()\n",
    "\n",
    "# Get Observation Data by executing a 360 degree rotation motion\n",
    "loc.get_observation_data()\n",
    "\n",
    "# Run Update Step\n",
    "loc.update_step()\n",
    "loc.plot_update_step_data(plot_data=True)\n",
    "\n",
    "# Plot Odom and GT\n",
    "current_gt = robot.get_pose(1)\n",
    "cmdr.plot_gt(current_gt[0], current_gt[1])\n",
    "# cmdr.plot_odom(current_odom[0], current_odom[1])"
   ]
  },
  {
   "cell_type": "code",
   "execution_count": 10,
   "metadata": {
    "tags": []
   },
   "outputs": [
    {
     "name": "stdout",
     "output_type": "stream",
     "text": [
      "2023-05-01 17:30:50,099 |\u001b[32m INFO     \u001b[0m|: Initializing beliefs with a Uniform Distribution\n",
      "2023-05-01 17:30:50,100 |\u001b[32m INFO     \u001b[0m|: Uniform Belief with each cell value: 0.00051440329218107\n",
      "441,0|552,1|419,2|363,3|397,4|561,5|996,6|2402,7|386,8|202,9|406,10|2395,11|1438,12|661,13|468,14|403,15|415,16|508,17|\n",
      "[ 441.  552.  419.  363.  397.  561.  996. 2402.  386.  202.  406. 2395.\n",
      " 1438.  661.  468.  403.  415.  508.]\n",
      "2023-05-01 17:30:58,956 |\u001b[32m INFO     \u001b[0m|: Update Step\n",
      "2023-05-01 17:30:58,958 |\u001b[32m INFO     \u001b[0m|:      | Update Time: 0.001 secs\n",
      "2023-05-01 17:30:58,958 |\u001b[32m INFO     \u001b[0m|: Bel index     : (11, 6, 10) with prob = 0.9999999\n",
      "2023-05-01 17:30:58,959 |\u001b[32m INFO     \u001b[0m|: Bel_bar prob at index = 0.00051440329218107\n",
      "2023-05-01 17:30:58,960 |\u001b[32m INFO     \u001b[0m|: Belief        : (1.829, 0.610, 30.000)\n"
     ]
    }
   ],
   "source": [
    "# Reset Plots\n",
    "cmdr.reset_plotter()\n",
    "\n",
    "# Init Uniform Belief\n",
    "loc.init_grid_beliefs()\n",
    "\n",
    "# Get Observation Data by executing a 360 degree rotation motion\n",
    "loc.get_observation_data()\n",
    "\n",
    "# Run Update Step\n",
    "loc.update_step()\n",
    "loc.plot_update_step_data(plot_data=True)\n",
    "\n",
    "# Plot Odom and GT\n",
    "current_gt = robot.get_pose(2)\n",
    "cmdr.plot_gt(current_gt[0], current_gt[1])\n",
    "# cmdr.plot_odom(current_odom[0], current_odom[1])"
   ]
  },
  {
   "cell_type": "code",
   "execution_count": 6,
   "metadata": {
    "tags": []
   },
   "outputs": [
    {
     "name": "stdout",
     "output_type": "stream",
     "text": [
      "2023-05-01 17:38:35,755 |\u001b[32m INFO     \u001b[0m|: Initializing beliefs with a Uniform Distribution\n",
      "2023-05-01 17:38:35,756 |\u001b[32m INFO     \u001b[0m|: Uniform Belief with each cell value: 0.00051440329218107\n",
      "841,0|465,1|343,2|329,3|428,4|739,5|713,6|775,7|2368,8|2079,9|2186,10|996,11|749,12|1971,13|892,14|520,15|375,16|353,17|\n",
      "[ 841.  465.  343.  329.  428.  739.  713.  775. 2368. 2079. 2186.  996.\n",
      "  749. 1971.  892.  520.  375.  353.]\n",
      "2023-05-01 17:38:44,622 |\u001b[32m INFO     \u001b[0m|: Update Step\n",
      "2023-05-01 17:38:44,624 |\u001b[32m INFO     \u001b[0m|:      | Update Time: 0.002 secs\n",
      "2023-05-01 17:38:44,625 |\u001b[32m INFO     \u001b[0m|: Bel index     : (5, 8, 13) with prob = 0.9999999\n",
      "2023-05-01 17:38:44,626 |\u001b[32m INFO     \u001b[0m|: Bel_bar prob at index = 0.00051440329218107\n",
      "2023-05-01 17:38:44,626 |\u001b[32m INFO     \u001b[0m|: Belief        : (0.000, 1.219, 90.000)\n",
      "2023-05-01 17:39:15,304 |\u001b[32m INFO     \u001b[0m|: Disconnected from C0:83:B1:6A:38:3C\n"
     ]
    }
   ],
   "source": [
    "# Reset Plots\n",
    "cmdr.reset_plotter()\n",
    "\n",
    "# Init Uniform Belief\n",
    "loc.init_grid_beliefs()\n",
    "\n",
    "# Get Observation Data by executing a 360 degree rotation motion\n",
    "loc.get_observation_data()\n",
    "\n",
    "# Run Update Step\n",
    "loc.update_step()\n",
    "loc.plot_update_step_data(plot_data=True)\n",
    "\n",
    "# Plot Odom and GT\n",
    "current_gt = robot.get_pose(3)\n",
    "cmdr.plot_gt(current_gt[0], current_gt[1])\n",
    "# cmdr.plot_odom(current_odom[0], current_odom[1])"
   ]
  },
  {
   "cell_type": "code",
   "execution_count": 8,
   "metadata": {
    "tags": []
   },
   "outputs": [
    {
     "name": "stdout",
     "output_type": "stream",
     "text": [
      "2023-05-01 17:27:27,447 |\u001b[32m INFO     \u001b[0m|: Initializing beliefs with a Uniform Distribution\n",
      "2023-05-01 17:27:27,448 |\u001b[32m INFO     \u001b[0m|: Uniform Belief with each cell value: 0.00051440329218107\n",
      "894,0|2372,1|3463,2|1020,3|909,4|1048,5|790,6|617,7|581,8|614,9|712,10|823,11|614,12|591,13|704,14|919,15|805,16|3402,17|\n",
      "[ 894. 2372. 3463. 1020.  909. 1048.  790.  617.  581.  614.  712.  823.\n",
      "  614.  591.  704.  919.  805. 3402.]\n",
      "2023-05-01 17:27:36,137 |\u001b[32m INFO     \u001b[0m|: Update Step\n",
      "2023-05-01 17:27:36,138 |\u001b[32m INFO     \u001b[0m|:      | Update Time: 0.001 secs\n",
      "2023-05-01 17:27:36,139 |\u001b[32m INFO     \u001b[0m|: Bel index     : (2, 2, 10) with prob = 1.0\n",
      "2023-05-01 17:27:36,139 |\u001b[32m INFO     \u001b[0m|: Bel_bar prob at index = 0.00051440329218107\n",
      "2023-05-01 17:27:36,140 |\u001b[32m INFO     \u001b[0m|: Belief        : (-0.914, -0.610, 30.000)\n"
     ]
    }
   ],
   "source": [
    "# Reset Plots\n",
    "cmdr.reset_plotter()\n",
    "\n",
    "# Init Uniform Belief\n",
    "loc.init_grid_beliefs()\n",
    "\n",
    "# Get Observation Data by executing a 360 degree rotation motion\n",
    "loc.get_observation_data()\n",
    "\n",
    "# Run Update Step\n",
    "loc.update_step()\n",
    "loc.plot_update_step_data(plot_data=True)\n",
    "\n",
    "# Plot Odom and GT\n",
    "current_gt = robot.get_pose(4)\n",
    "cmdr.plot_gt(current_gt[0], current_gt[1])\n",
    "# cmdr.plot_odom(current_odom[0], current_odom[1])"
   ]
  },
  {
   "cell_type": "code",
   "execution_count": 11,
   "metadata": {},
   "outputs": [
    {
     "name": "stdout",
     "output_type": "stream",
     "text": [
      "2023-05-01 17:33:31,510 |\u001b[32m INFO     \u001b[0m|: Disconnected from C0:83:B1:6A:38:3C\n"
     ]
    }
   ],
   "source": [
    "ble.disconnect()"
   ]
  },
  {
   "cell_type": "code",
   "execution_count": null,
   "metadata": {},
   "outputs": [],
   "source": []
  }
 ],
 "metadata": {
  "kernelspec": {
   "display_name": "Python 3 (ipykernel)",
   "language": "python",
   "name": "python3"
  },
  "language_info": {
   "codemirror_mode": {
    "name": "ipython",
    "version": 3
   },
   "file_extension": ".py",
   "mimetype": "text/x-python",
   "name": "python",
   "nbconvert_exporter": "python",
   "pygments_lexer": "ipython3",
   "version": "3.10.9"
  }
 },
 "nbformat": 4,
 "nbformat_minor": 4
}
