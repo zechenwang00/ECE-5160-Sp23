{
 "cells": [
  {
   "cell_type": "code",
   "execution_count": 160,
   "id": "bea710a6-dfcc-4971-97d2-d6e9f9efcd1a",
   "metadata": {
    "tags": []
   },
   "outputs": [
    {
     "name": "stdout",
     "output_type": "stream",
     "text": [
      "The autoreload extension is already loaded. To reload it, use:\n",
      "  %reload_ext autoreload\n"
     ]
    }
   ],
   "source": [
    "%load_ext autoreload\n",
    "%autoreload 2\n",
    "\n",
    "from ble import get_ble_controller\n",
    "from base_ble import LOG\n",
    "from cmd_types import CMD\n",
    "import time\n",
    "import numpy as np\n",
    "import matplotlib.pyplot as plt\n",
    "\n",
    "LOG.propagate = False"
   ]
  },
  {
   "cell_type": "code",
   "execution_count": 183,
   "id": "907626d6-b08f-40d6-abac-184ac9172e55",
   "metadata": {
    "tags": []
   },
   "outputs": [
    {
     "name": "stdout",
     "output_type": "stream",
     "text": [
      "2023-05-11 17:33:10,052 |\u001b[32m INFO     \u001b[0m|: Looking for Artemis Nano Peripheral Device: C0:83:b1:6a:38:3C\n",
      "2023-05-11 17:33:12,862 |\u001b[32m INFO     \u001b[0m|: Connected to C0:83:b1:6a:38:3C\n"
     ]
    }
   ],
   "source": [
    "# Get ArtemisBLEController object\n",
    "ble = get_ble_controller()\n",
    "\n",
    "# Connect to the Artemis Device\n",
    "ble.connect()"
   ]
  },
  {
   "cell_type": "code",
   "execution_count": 184,
   "id": "52431247-ae2e-4a78-b8ff-cc92d31a944a",
   "metadata": {
    "tags": []
   },
   "outputs": [],
   "source": [
    "# def get_data_cb(uuid, byte_array):\n",
    "#     global tof_list, pwm_list\n",
    "#     if byte_array is not None:\n",
    "#         s = byte_array.decode(\"utf-8\")\n",
    "#         s = s.split(\"|\")  # split each reading\n",
    "        \n",
    "#         if s[0] == 'T':\n",
    "#             # TOF\n",
    "#             readings = s[1].split(',')[:-1]\n",
    "#             for data in readings:\n",
    "#                 data = data.split('&')\n",
    "#                 time = int(data[0])\n",
    "#                 tof  = int(data[1])\n",
    "#                 if time > 0:\n",
    "#                     tof_time_list.append(time)\n",
    "#                     tof_data_list.append(tof)\n",
    "        \n",
    "#         elif s[0] == 'P':\n",
    "#             # PWM\n",
    "#             readings = s[1].split(',')[:-1]\n",
    "#             for data in readings:\n",
    "#                 data = data.split('&')\n",
    "#                 time = int(data[0])\n",
    "#                 pwm  = int(data[1])\n",
    "#                 if time > 0:\n",
    "#                     pwm_time_list.append(time)\n",
    "#                     pwm_data_list.append(pwm)"
   ]
  },
  {
   "cell_type": "code",
   "execution_count": 185,
   "id": "7e13f12f-fee6-4d83-932c-54bc15058b8a",
   "metadata": {
    "tags": []
   },
   "outputs": [],
   "source": [
    "# ble.start_notify(ble.uuid['RX_STRING'], get_data_cb)"
   ]
  },
  {
   "cell_type": "code",
   "execution_count": 186,
   "id": "36afc782-d30f-4a01-b521-3a28ad925281",
   "metadata": {
    "tags": []
   },
   "outputs": [],
   "source": [
    "# tof_data_list = []\n",
    "# pwm_data_list = []\n",
    "# tof_time_list = []\n",
    "# pwm_time_list = []\n",
    "# kf_data_list = []\n",
    "# kf_time_list = []\n"
   ]
  },
  {
   "cell_type": "code",
   "execution_count": 187,
   "id": "e2b5c485-77e6-4784-bdfc-2027389974d2",
   "metadata": {},
   "outputs": [],
   "source": [
    "# start\n",
    "ble.send_command(CMD.SEND_TWO_INTS, \"\")"
   ]
  },
  {
   "cell_type": "code",
   "execution_count": 169,
   "id": "379d589e-59c5-4bc8-90b7-a39186824daa",
   "metadata": {
    "tags": []
   },
   "outputs": [],
   "source": [
    "# stop\n",
    "ble.send_command(CMD.SEND_THREE_FLOATS, \"\")"
   ]
  },
  {
   "cell_type": "code",
   "execution_count": 6,
   "id": "f8b92ff5-a055-40ed-a100-2f9ee8d0106f",
   "metadata": {
    "tags": []
   },
   "outputs": [],
   "source": [
    "# ble.stop_notify(ble.uuid['RX_STRING'])"
   ]
  }
 ],
 "metadata": {
  "kernelspec": {
   "display_name": "Python 3 (ipykernel)",
   "language": "python",
   "name": "python3"
  },
  "language_info": {
   "codemirror_mode": {
    "name": "ipython",
    "version": 3
   },
   "file_extension": ".py",
   "mimetype": "text/x-python",
   "name": "python",
   "nbconvert_exporter": "python",
   "pygments_lexer": "ipython3",
   "version": "3.10.9"
  }
 },
 "nbformat": 4,
 "nbformat_minor": 5
}
