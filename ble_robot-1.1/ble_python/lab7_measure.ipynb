{
 "cells": [
  {
   "cell_type": "code",
   "execution_count": 1,
   "id": "bea710a6-dfcc-4971-97d2-d6e9f9efcd1a",
   "metadata": {
    "tags": []
   },
   "outputs": [],
   "source": [
    "%load_ext autoreload\n",
    "%autoreload 2\n",
    "\n",
    "from ble import get_ble_controller\n",
    "from base_ble import LOG\n",
    "from cmd_types import CMD\n",
    "import time\n",
    "import numpy as np\n",
    "import matplotlib.pyplot as plt\n",
    "\n",
    "LOG.propagate = False"
   ]
  },
  {
   "cell_type": "code",
   "execution_count": 2,
   "id": "907626d6-b08f-40d6-abac-184ac9172e55",
   "metadata": {
    "tags": []
   },
   "outputs": [
    {
     "name": "stdout",
     "output_type": "stream",
     "text": [
      "2023-03-25 01:14:50,657 |\u001b[32m INFO     \u001b[0m|: Looking for Artemis Nano Peripheral Device: C0:83:b1:6a:38:3C\n",
      "2023-03-25 01:14:53,577 |\u001b[32m INFO     \u001b[0m|: Connected to C0:83:b1:6a:38:3C\n"
     ]
    },
    {
     "name": "stderr",
     "output_type": "stream",
     "text": [
      "D:\\Workspace\\ECE-5160-Sp23\\ble_robot-1.1\\ble_python\\base_ble.py:87: FutureWarning: This method will be removed future version, pass the callback to the BleakClient constructor instead.\n",
      "  self.client.set_disconnected_callback(self.disconnect_handler)\n"
     ]
    }
   ],
   "source": [
    "# Get ArtemisBLEController object\n",
    "ble = get_ble_controller()\n",
    "\n",
    "# Connect to the Artemis Device\n",
    "ble.connect()"
   ]
  },
  {
   "cell_type": "code",
   "execution_count": 3,
   "id": "52431247-ae2e-4a78-b8ff-cc92d31a944a",
   "metadata": {
    "tags": []
   },
   "outputs": [],
   "source": [
    "def get_data_cb(uuid, byte_array):\n",
    "    global tof_list, pwm_list\n",
    "    if byte_array is not None:\n",
    "        s = byte_array.decode(\"utf-8\")\n",
    "        s = s.split(\"|\")  # split each reading\n",
    "        \n",
    "        if s[0] == 'T':\n",
    "            # TOF\n",
    "            readings = s[1].split(',')[:-1]\n",
    "            for data in readings:\n",
    "                data = data.split('&')\n",
    "                time = int(data[0])\n",
    "                tof  = int(data[1])\n",
    "                if tof > 0:\n",
    "                    tof_time_list.append(time)\n",
    "                    tof_data_list.append(tof)\n",
    "        else:\n",
    "            # PWM\n",
    "            readings = s[1].split(',')[:-1]\n",
    "            for data in readings:\n",
    "                data = data.split('&')\n",
    "                time = int(data[0])\n",
    "                pwm  = int(data[1])\n",
    "                if pwm > 0:\n",
    "                    pwm_time_list.append(time)\n",
    "                    pwm_data_list.append(pwm)"
   ]
  },
  {
   "cell_type": "code",
   "execution_count": 4,
   "id": "7e13f12f-fee6-4d83-932c-54bc15058b8a",
   "metadata": {
    "tags": []
   },
   "outputs": [],
   "source": [
    "ble.start_notify(ble.uuid['RX_STRING'], get_data_cb)"
   ]
  },
  {
   "cell_type": "code",
   "execution_count": 5,
   "id": "36afc782-d30f-4a01-b521-3a28ad925281",
   "metadata": {
    "tags": []
   },
   "outputs": [],
   "source": [
    "tof_data_list = []\n",
    "pwm_data_list = []\n",
    "tof_time_list = []\n",
    "pwm_time_list = []\n"
   ]
  },
  {
   "cell_type": "code",
   "execution_count": 6,
   "id": "e2b5c485-77e6-4784-bdfc-2027389974d2",
   "metadata": {},
   "outputs": [],
   "source": [
    "# start\n",
    "ble.send_command(CMD.SEND_TWO_INTS, \"\")"
   ]
  },
  {
   "cell_type": "code",
   "execution_count": 7,
   "id": "379d589e-59c5-4bc8-90b7-a39186824daa",
   "metadata": {
    "tags": []
   },
   "outputs": [],
   "source": [
    "# stop\n",
    "ble.send_command(CMD.SEND_THREE_FLOATS, \"\")"
   ]
  },
  {
   "cell_type": "code",
   "execution_count": 8,
   "id": "f8b92ff5-a055-40ed-a100-2f9ee8d0106f",
   "metadata": {
    "tags": []
   },
   "outputs": [],
   "source": [
    "ble.stop_notify(ble.uuid['RX_STRING'])"
   ]
  },
  {
   "cell_type": "code",
   "execution_count": 9,
   "id": "3aa9415c-bc79-4c66-b019-debd562c532e",
   "metadata": {
    "tags": []
   },
   "outputs": [],
   "source": [
    "tof_time_list = [x - tof_time_list[0] for x in tof_time_list]\n",
    "pwm_time_list = [x - pwm_time_list[0] for x in pwm_time_list]\n",
    "\n",
    "if tof_time_list[0] > 1000:\n",
    "    tof_time_list = tof_time_list/1000\n",
    "    pwm_time_list = pwm_time_list/1000"
   ]
  },
  {
   "cell_type": "code",
   "execution_count": 10,
   "id": "47e178b7-b6ef-4d1a-8eaf-03e8e615ee3a",
   "metadata": {
    "tags": []
   },
   "outputs": [
    {
     "name": "stdout",
     "output_type": "stream",
     "text": [
      "[359, 360, 359, 361, 360, 359, 360, 358, 356, 358, 361, 361, 358, 361, 357, 360, 359, 358, 361, 360, 361, 359, 358, 356, 360, 360, 358, 357, 358, 360, 361, 359, 359, 358, 358, 359, 358, 362, 361, 357, 360, 359, 358, 358, 358, 359, 358, 359, 357, 357, 357, 357, 360, 361, 359, 358, 358, 358, 360, 362, 358, 359, 359, 357, 360, 361, 360, 360, 358, 361]\n",
      "[0, 106, 224, 332, 447, 562, 656, 773, 869, 987, 1087, 1199, 1293, 1417, 1520, 1633, 1729, 1844, 1939, 2060, 2152, 2266, 2358, 2478, 2567, 2686, 2778, 2892, 2990, 3103, 3199, 3323, 3422, 3537, 3632, 3747, 3848, 3957, 4053, 4166, 4265, 4375, 4472, 4590, 4688, 4807, 4902, 5009, 5110, 5216, 5312, 5427, 5519, 5633, 5727, 5843, 5935, 6052, 6142, 6259, 6351, 6470, 6562, 6679, 6772, 6883, 6983, 7099, 7197, 7311]\n",
      "[1, 1, 1, 1, 1, 1, 1, 1, 1, 1, 1, 1, 1, 1, 1, 1, 1, 1, 1, 1, 1, 1, 1, 1, 1, 1, 1, 1, 1, 1, 1, 1, 1, 1, 1, 1, 1, 1, 1, 1, 1, 1, 1, 1, 1, 1, 1, 1, 1, 1, 1, 1, 1, 1, 1, 1, 1, 1, 1, 1, 1, 1, 1, 1, 1, 1, 1, 1, 1, 1]\n",
      "[0, 106, 224, 332, 447, 562, 656, 773, 869, 987, 1087, 1199, 1293, 1417, 1520, 1633, 1729, 1844, 1939, 2060, 2152, 2266, 2358, 2478, 2567, 2686, 2778, 2892, 2990, 3103, 3199, 3323, 3422, 3537, 3632, 3747, 3848, 3957, 4053, 4166, 4265, 4375, 4472, 4590, 4688, 4807, 4902, 5009, 5110, 5216, 5312, 5427, 5519, 5633, 5727, 5843, 5935, 6052, 6142, 6259, 6351, 6470, 6562, 6679, 6772, 6883, 6983, 7099, 7197, 7311]\n"
     ]
    }
   ],
   "source": [
    "print(tof_data_list)\n",
    "print(tof_time_list)\n",
    "print(pwm_data_list)\n",
    "print(pwm_time_list)"
   ]
  },
  {
   "cell_type": "code",
   "execution_count": null,
   "id": "25367d48-c2d1-4ab3-906f-b8789758a6ff",
   "metadata": {
    "tags": []
   },
   "outputs": [],
   "source": [
    "import pickle\n",
    "file = open('tof_data_var.pkl', 'wb')\n",
    "pickle.dump(tof_data_list, file)\n",
    "file.close()\n",
    "file = open('tof_time_var.pkl', 'wb')\n",
    "pickle.dump(tof_time_list, file)\n",
    "file.close()"
   ]
  },
  {
   "cell_type": "code",
   "execution_count": 24,
   "id": "5ddfabfe-8bd2-4426-879d-15386f2c9306",
   "metadata": {
    "tags": []
   },
   "outputs": [
    {
     "data": {
      "image/png": "[encoded data removed]",
      "text/plain": [
       "<Figure size 640x480 with 1 Axes>"
      ]
     },
     "metadata": {},
     "output_type": "display_data"
    }
   ],
   "source": [
    "plt.hist(tof_data_list,bins=6,color='gray', label='tof')\n",
    "plt.legend(loc=\"upper right\")\n",
    "plt.title(\"ToF measurement distribution\")\n",
    "plt.show()"
   ]
  },
  {
   "cell_type": "code",
   "execution_count": 28,
   "id": "47b64091-c96a-410c-bdbf-0966c2e18f3d",
   "metadata": {
    "tags": []
   },
   "outputs": [
    {
     "name": "stdout",
     "output_type": "stream",
     "text": [
      "2.0712244897959184\n",
      "105.95652173913044\n"
     ]
    }
   ],
   "source": [
    "var = np.var(tof_data_list)\n",
    "print(var)\n",
    "rate = np.average(np.diff(tof_time_list))\n",
    "print(rate)"
   ]
  },
  {
   "cell_type": "code",
   "execution_count": null,
   "id": "8cfa8f8e-635d-4b56-9aae-23ff72eb6958",
   "metadata": {
    "tags": []
   },
   "outputs": [],
   "source": [
    "if pwm_data_list[0] != 0:\n",
    "    pwm_data_list[0] = 0\n",
    "\n",
    "plt.plot(pwm_time_list, pwm_data_list, color='gray', label='pwm')\n",
    "plt.legend(loc=\"upper right\")\n",
    "plt.xlabel('time(ms)')\n",
    "plt.ylabel('pwm')\n",
    "plt.show()"
   ]
  },
  {
   "cell_type": "code",
   "execution_count": null,
   "id": "9a77f13d-0c64-414d-be7d-ed65cd76e102",
   "metadata": {},
   "outputs": [],
   "source": [
    "delta = abs(np.diff(tof_data_list)/np.diff(tof_time_list)) * 1000\n",
    "plt.plot(tof_time_list[1:], delta)"
   ]
  },
  {
   "cell_type": "code",
   "execution_count": 32,
   "id": "1993566b-ea54-4288-9552-118412b45d43",
   "metadata": {},
   "outputs": [],
   "source": [
    "tof_data_list = [2019, 2011, 2008, 2001, 1968, 1934, 1881, 1846, 1799, 1742, 1672, 1612, 1506, 1415, 1304, 1218, 1122, 1025, 926, 821, 716, 612, 520, 449, 391, 344, 306, 283, 269, 262, 264, 265, 267, 268, 272, 275, 280, 286, 292]\n",
    "tof_time_list = [0, 0.065, 0.136, 0.205, 0.267, 0.331, 0.396, 0.462, 0.526, 0.588, 0.651, 0.715, 0.781, 0.848, 0.911, 0.975, 1.037, 1.102, 1.166, 1.232, 1.301, 1.378, 1.446, 1.51, 1.576, 1.641, 1.71, 1.774, 1.84,  1.905, 1.971, 2.037, 2.113, 2.179, 2.249, 2.317, 2.381, 2.447, 2.508]\n",
    "pwm_data_list = [100, 100, 100, 100, 100, 100, 100, 100, 100, 100, 100, 100, 100, 100, 100, 100, 100, 100, 100, 1, 1, 1, 1, 1, 1, 1, 1, 1, 1, 1, 1, 1, 1, 1, 1, 1, 1, 1, 1]\n",
    "\n",
    "file = open('tof_data_run.pkl', 'wb')\n",
    "pickle.dump(tof_data_list, file)\n",
    "file.close()\n",
    "file = open('tof_time_run.pkl', 'wb')\n",
    "pickle.dump(tof_time_list, file)\n",
    "file.close()\n",
    "file = open('pwm_data_run.pkl', 'wb')\n",
    "pickle.dump(pwm_data_list, file)\n",
    "file.close()\n"
   ]
  },
  {
   "cell_type": "code",
   "execution_count": null,
   "id": "54217fb8-380d-4f2e-b25b-65332a06958c",
   "metadata": {},
   "outputs": [],
   "source": []
  }
 ],
 "metadata": {
  "kernelspec": {
   "display_name": "Python 3 (ipykernel)",
   "language": "python",
   "name": "python3"
  },
  "language_info": {
   "codemirror_mode": {
    "name": "ipython",
    "version": 3
   },
   "file_extension": ".py",
   "mimetype": "text/x-python",
   "name": "python",
   "nbconvert_exporter": "python",
   "pygments_lexer": "ipython3",
   "version": "3.10.9"
  }
 },
 "nbformat": 4,
 "nbformat_minor": 5
}
